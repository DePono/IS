{
  "cells": [
    {
      "cell_type": "markdown",
      "metadata": {
        "id": "view-in-github",
        "colab_type": "text"
      },
      "source": [
        "<a href=\"https://colab.research.google.com/github/DePono/IS/blob/main/%D0%9A%D0%BE%D0%BF%D0%B8%D1%8F_%D0%B1%D0%BB%D0%BE%D0%BA%D0%BD%D0%BE%D1%82%D0%B0_%22%D0%9F%D0%BE%D0%BD%D0%B0%D0%BC%D0%B0%D1%80%D0%B5%D0%BD%D0%BA%D0%BE_%D0%94_%D0%98_%D0%9B%D0%B0%D0%B1%D0%BE%D1%80%D0%B0%D1%82%D0%BE%D1%80%D0%BD%D0%B0%D1%8F_%D0%B4%D0%B8%D0%B0%D0%B1%D0%B5%D1%82%D1%8B%22load_diabetes_ipynb%22%22%22.ipynb\" target=\"_parent\"><img src=\"https://colab.research.google.com/assets/colab-badge.svg\" alt=\"Open In Colab\"/></a>"
      ]
    },
    {
      "cell_type": "markdown",
      "metadata": {
        "id": "p0-YhEpP_Ds-"
      },
      "source": [
        "#### 1. Установка PySpark & Spark"
      ]
    },
    {
      "cell_type": "code",
      "execution_count": null,
      "metadata": {
        "colab": {
          "base_uri": "https://localhost:8080/"
        },
        "id": "k-qHai2252mI",
        "outputId": "e923e5da-55e0-49a7-d48b-79231241e0e0"
      },
      "outputs": [
        {
          "output_type": "stream",
          "name": "stdout",
          "text": [
            "Collecting pyspark\n",
            "  Downloading pyspark-3.4.1.tar.gz (310.8 MB)\n",
            "\u001b[2K     \u001b[90m━━━━━━━━━━━━━━━━━━━━━━━━━━━━━━━━━━━━━━━\u001b[0m \u001b[32m310.8/310.8 MB\u001b[0m \u001b[31m4.3 MB/s\u001b[0m eta \u001b[36m0:00:00\u001b[0m\n",
            "\u001b[?25h  Preparing metadata (setup.py) ... \u001b[?25l\u001b[?25hdone\n",
            "Requirement already satisfied: py4j==0.10.9.7 in /usr/local/lib/python3.10/dist-packages (from pyspark) (0.10.9.7)\n",
            "Building wheels for collected packages: pyspark\n",
            "  Building wheel for pyspark (setup.py) ... \u001b[?25l\u001b[?25hdone\n",
            "  Created wheel for pyspark: filename=pyspark-3.4.1-py2.py3-none-any.whl size=311285387 sha256=eee99644e5b2d0304e0991ee5b7cbd36858a872a1964939a6ee34a2491ddcf44\n",
            "  Stored in directory: /root/.cache/pip/wheels/0d/77/a3/ff2f74cc9ab41f8f594dabf0579c2a7c6de920d584206e0834\n",
            "Successfully built pyspark\n",
            "Installing collected packages: pyspark\n",
            "Successfully installed pyspark-3.4.1\n",
            "The following additional packages will be installed:\n",
            "  libxtst6 openjdk-8-jre-headless\n",
            "Suggested packages:\n",
            "  openjdk-8-demo openjdk-8-source libnss-mdns fonts-dejavu-extra fonts-nanum\n",
            "  fonts-ipafont-gothic fonts-ipafont-mincho fonts-wqy-microhei\n",
            "  fonts-wqy-zenhei fonts-indic\n",
            "The following NEW packages will be installed:\n",
            "  libxtst6 openjdk-8-jdk-headless openjdk-8-jre-headless\n",
            "0 upgraded, 3 newly installed, 0 to remove and 17 not upgraded.\n",
            "Need to get 39.7 MB of archives.\n",
            "After this operation, 144 MB of additional disk space will be used.\n",
            "Selecting previously unselected package libxtst6:amd64.\n",
            "(Reading database ... 120901 files and directories currently installed.)\n",
            "Preparing to unpack .../libxtst6_2%3a1.2.3-1build4_amd64.deb ...\n",
            "Unpacking libxtst6:amd64 (2:1.2.3-1build4) ...\n",
            "Selecting previously unselected package openjdk-8-jre-headless:amd64.\n",
            "Preparing to unpack .../openjdk-8-jre-headless_8u382-ga-1~22.04.1_amd64.deb ...\n",
            "Unpacking openjdk-8-jre-headless:amd64 (8u382-ga-1~22.04.1) ...\n",
            "Selecting previously unselected package openjdk-8-jdk-headless:amd64.\n",
            "Preparing to unpack .../openjdk-8-jdk-headless_8u382-ga-1~22.04.1_amd64.deb ...\n",
            "Unpacking openjdk-8-jdk-headless:amd64 (8u382-ga-1~22.04.1) ...\n",
            "Setting up libxtst6:amd64 (2:1.2.3-1build4) ...\n",
            "Setting up openjdk-8-jre-headless:amd64 (8u382-ga-1~22.04.1) ...\n",
            "update-alternatives: using /usr/lib/jvm/java-8-openjdk-amd64/jre/bin/orbd to provide /usr/bin/orbd (orbd) in auto mode\n",
            "update-alternatives: using /usr/lib/jvm/java-8-openjdk-amd64/jre/bin/servertool to provide /usr/bin/servertool (servertool) in auto mode\n",
            "update-alternatives: using /usr/lib/jvm/java-8-openjdk-amd64/jre/bin/tnameserv to provide /usr/bin/tnameserv (tnameserv) in auto mode\n",
            "Setting up openjdk-8-jdk-headless:amd64 (8u382-ga-1~22.04.1) ...\n",
            "update-alternatives: using /usr/lib/jvm/java-8-openjdk-amd64/bin/clhsdb to provide /usr/bin/clhsdb (clhsdb) in auto mode\n",
            "update-alternatives: using /usr/lib/jvm/java-8-openjdk-amd64/bin/extcheck to provide /usr/bin/extcheck (extcheck) in auto mode\n",
            "update-alternatives: using /usr/lib/jvm/java-8-openjdk-amd64/bin/hsdb to provide /usr/bin/hsdb (hsdb) in auto mode\n",
            "update-alternatives: using /usr/lib/jvm/java-8-openjdk-amd64/bin/idlj to provide /usr/bin/idlj (idlj) in auto mode\n",
            "update-alternatives: using /usr/lib/jvm/java-8-openjdk-amd64/bin/javah to provide /usr/bin/javah (javah) in auto mode\n",
            "update-alternatives: using /usr/lib/jvm/java-8-openjdk-amd64/bin/jhat to provide /usr/bin/jhat (jhat) in auto mode\n",
            "update-alternatives: using /usr/lib/jvm/java-8-openjdk-amd64/bin/jsadebugd to provide /usr/bin/jsadebugd (jsadebugd) in auto mode\n",
            "update-alternatives: using /usr/lib/jvm/java-8-openjdk-amd64/bin/native2ascii to provide /usr/bin/native2ascii (native2ascii) in auto mode\n",
            "update-alternatives: using /usr/lib/jvm/java-8-openjdk-amd64/bin/schemagen to provide /usr/bin/schemagen (schemagen) in auto mode\n",
            "update-alternatives: using /usr/lib/jvm/java-8-openjdk-amd64/bin/wsgen to provide /usr/bin/wsgen (wsgen) in auto mode\n",
            "update-alternatives: using /usr/lib/jvm/java-8-openjdk-amd64/bin/wsimport to provide /usr/bin/wsimport (wsimport) in auto mode\n",
            "update-alternatives: using /usr/lib/jvm/java-8-openjdk-amd64/bin/xjc to provide /usr/bin/xjc (xjc) in auto mode\n",
            "Processing triggers for libc-bin (2.35-0ubuntu3.1) ...\n",
            "/sbin/ldconfig.real: /usr/local/lib/libtbb.so.12 is not a symbolic link\n",
            "\n",
            "/sbin/ldconfig.real: /usr/local/lib/libtbbmalloc_proxy.so.2 is not a symbolic link\n",
            "\n",
            "/sbin/ldconfig.real: /usr/local/lib/libtbbmalloc.so.2 is not a symbolic link\n",
            "\n",
            "/sbin/ldconfig.real: /usr/local/lib/libtbbbind_2_0.so.3 is not a symbolic link\n",
            "\n",
            "/sbin/ldconfig.real: /usr/local/lib/libtbbbind.so.3 is not a symbolic link\n",
            "\n",
            "/sbin/ldconfig.real: /usr/local/lib/libtbbbind_2_5.so.3 is not a symbolic link\n",
            "\n"
          ]
        }
      ],
      "source": [
        "!pip install pyspark\n",
        "!pip install -U -q PyDrive\n",
        "!apt install openjdk-8-jdk-headless -qq\n",
        "import os\n",
        "os.environ[\"JAVA_HOME\"] = \"/usr/lib/jvm/java-8-openjdk-amd64\""
      ]
    },
    {
      "cell_type": "markdown",
      "metadata": {
        "id": "hHo_24sTpzOH"
      },
      "source": [
        "##### Импорт библиотек"
      ]
    },
    {
      "cell_type": "code",
      "execution_count": null,
      "metadata": {
        "id": "twk-K-jilWK7"
      },
      "outputs": [],
      "source": [
        "import pandas as pd\n",
        "import numpy as np\n",
        "import matplotlib.pyplot as plt\n",
        "%matplotlib inline\n",
        "\n",
        "import pyspark\n",
        "from pyspark.sql import *\n",
        "from pyspark.sql.types import *\n",
        "from pyspark.sql.functions import *\n",
        "from pyspark import SparkContext, SparkConf"
      ]
    },
    {
      "cell_type": "markdown",
      "metadata": {
        "id": "BtrJlMBt1Ela"
      },
      "source": [
        "##### Инициализация SparkContext"
      ]
    },
    {
      "cell_type": "code",
      "execution_count": null,
      "metadata": {
        "id": "KH91tEik9zZ3"
      },
      "outputs": [],
      "source": [
        "sc = pyspark.SparkContext()\n",
        "spark = SparkSession.builder.getOrCreate()"
      ]
    },
    {
      "cell_type": "markdown",
      "metadata": {
        "id": "kAYRX2PMm0L6"
      },
      "source": [
        "##### Датасет"
      ]
    },
    {
      "cell_type": "markdown",
      "metadata": {
        "id": "7hXdMR6wnEIM"
      },
      "source": [
        "Дан набор данных, содержащих информацию о [диабете]((https://archive.ics.uci.edu/ml/datasets/Diabetes) . \\\n",
        "\\\n",
        " 20 вещественных атрибутов."
      ]
    },
    {
      "cell_type": "markdown",
      "metadata": {
        "id": "ok5dM09vshIM"
      },
      "source": [
        "##### Загрузка датасета"
      ]
    },
    {
      "cell_type": "code",
      "execution_count": null,
      "metadata": {
        "colab": {
          "background_save": true
        },
        "id": "5K93ABEy9Zlo"
      },
      "outputs": [],
      "source": [
        "from sklearn.datasets import load_diabetes\n",
        "diabetes = load_diabetes()"
      ]
    },
    {
      "cell_type": "code",
      "execution_count": null,
      "metadata": {
        "colab": {
          "background_save": true
        },
        "id": "oYmbrUXrsx1p"
      },
      "outputs": [],
      "source": [
        "len(diabetes.data)"
      ]
    },
    {
      "cell_type": "markdown",
      "metadata": {
        "id": "wpsaYOqRxar2"
      },
      "source": [
        "##### Преобразование данных\n",
        "\n",
        "Так как датасет небольшой, воспользуемся pandas для преобразования данных. \\\n",
        "После получения pandas DataFrame, воспользуемся [Spark DataFrame](https://spark.apache.org/docs/latest/api/python/getting_started/quickstart_df.html#DataFrame-Creation)"
      ]
    },
    {
      "cell_type": "code",
      "execution_count": null,
      "metadata": {
        "colab": {
          "background_save": true
        },
        "id": "Oitav_xhQD9w"
      },
      "outputs": [],
      "source": [
        "pd_df = pd.DataFrame(diabetes.data, columns=diabetes.feature_names)\n",
        "df = spark.createDataFrame(pd_df)\n",
        "\n",
        "df.show()"
      ]
    },
    {
      "cell_type": "code",
      "execution_count": null,
      "metadata": {
        "colab": {
          "background_save": true
        },
        "id": "rLCM-ccY6EAp"
      },
      "outputs": [],
      "source": [
        "def map_to_nullable(spark, df, column_list, nullable=False):\n",
        "    for struct_field in df.schema:\n",
        "        if struct_field.name in column_list:\n",
        "            struct_field.nullable = nullable\n",
        "    df_mod = spark.createDataFrame(df.rdd, df.schema)\n",
        "    return df_mod\n",
        "\n",
        "df = map_to_nullable(spark, df, df.columns)\n",
        "df = df.withColumn('features', array(df.columns))\n",
        "vectors = df.rdd.map(lambda row: Vectors.dense(row.features))\n",
        "\n",
        "df.printSchema()"
      ]
    },
    {
      "cell_type": "markdown",
      "metadata": {
        "id": "TtR1xRvonxiO"
      },
      "source": [
        "Построим 2 следующих датафрейма\n",
        "\n",
        "* ```features``` - датафрейм, содержащий информацию о признаках диабета;\n",
        "* ```labels``` - бинарная серия с информацией о том"
      ]
    },
    {
      "cell_type": "code",
      "execution_count": null,
      "metadata": {
        "colab": {
          "background_save": true
        },
        "id": "J8OipFPL2nnq"
      },
      "outputs": [],
      "source": []
    },
    {
      "cell_type": "code",
      "execution_count": null,
      "metadata": {
        "colab": {
          "background_save": true
        },
        "id": "GP23Xkgwi0SD"
      },
      "outputs": [],
      "source": [
        "from pyspark.ml.linalg import Vectors\n",
        "features = spark.createDataFrame(vectors.map(Row), [\"features\"])\n",
        "labels = pd.Series(diabetes.target)"
      ]
    },
    {
      "cell_type": "code",
      "execution_count": null,
      "metadata": {
        "colab": {
          "background_save": true
        },
        "id": "YZ9IAEze8Dit"
      },
      "outputs": [],
      "source": [
        "features.show()"
      ]
    },
    {
      "cell_type": "markdown",
      "metadata": {
        "id": "CRaF2A_j_nC7"
      },
      "source": [
        "#### 2. Бинарная классификация методом K-means"
      ]
    },
    {
      "cell_type": "markdown",
      "metadata": {
        "id": "ebLNUxP0_8x3"
      },
      "source": [
        "Для решения задачи воспользуемся методом [K-means](https://spark.apache.org/docs/latest/ml-clustering.html) из пакета SparkML.\n",
        "Так как количество классов равно двум, установите параметр ```k=2```.\n",
        "\n",
        "Вычислим точность полученной K-means модели. Сравним выходные данные модели с выходными даннными исходного датасета.\\\n",
        "Изначально K-Means является алгоритмом кластеризации.\\\n",
        "Это означает, что он возвращает номера кластеров. Данные номера необязательно равны выходной переменной.\\\n",
        "Задача - понять, в какой кластер попали те или иные опухоли. И уже на основе этого оценивать accuracy метода.\\\n",
        "$accuracy = \\frac {S} {N}$;\\\n",
        "где $S$ - количество опухолей, отнесённых к правильному классу;\\\n",
        "$N$ - общий размер датасета.\n"
      ]
    },
    {
      "cell_type": "code",
      "execution_count": null,
      "metadata": {
        "colab": {
          "background_save": true
        },
        "id": "0xVIfPHZwWaE"
      },
      "outputs": [],
      "source": [
        "# базовая модель\n",
        "from pyspark.ml.clustering import KMeans\n",
        "from pyspark.ml.evaluation import ClusteringEvaluator\n",
        "\n",
        "kmeans = KMeans(k=2, seed=1)\n",
        "model = kmeans.fit(features)\n",
        "\n",
        "predictions = model.transform(features)\n",
        "predictions.show()"
      ]
    },
    {
      "cell_type": "markdown",
      "metadata": {
        "id": "mJTqKFVjnBHW"
      },
      "source": [
        "Кластер 1 -> признак 0\\\n",
        "Кластер 0 -> признак 1"
      ]
    },
    {
      "cell_type": "code",
      "execution_count": null,
      "metadata": {
        "colab": {
          "background_save": true
        },
        "id": "8gYOXlDCnAcw"
      },
      "outputs": [],
      "source": [
        "# функция подсчета точности модели\n",
        "def getAccuracy(modelRows, datasetLabels):\n",
        "  coincidencesCount = 0;\n",
        "  for i, label in enumerate(datasetLabels):\n",
        "      if label != modelRows[i].prediction:\n",
        "          coincidencesCount = coincidencesCount + 1;\n",
        "\n",
        "  labelsLength = len(datasetLabels);\n",
        "  print(coincidencesCount, '/', labelsLength)\n",
        "\n",
        "  return coincidencesCount/labelsLength;"
      ]
    },
    {
      "cell_type": "code",
      "execution_count": null,
      "metadata": {
        "colab": {
          "background_save": true
        },
        "id": "hiU7E8Yhkfwb"
      },
      "outputs": [],
      "source": [
        "# подсчет точности базовой модели\n",
        "rows = predictions.select('prediction').collect();\n",
        "baseAccuracy = getAccuracy(rows, labels)\n",
        "print('Точность базовой модели: ', baseAccuracy * 100, '%')"
      ]
    },
    {
      "cell_type": "code",
      "execution_count": null,
      "metadata": {
        "colab": {
          "background_save": true
        },
        "id": "1FHE6grLgnhU"
      },
      "outputs": [],
      "source": [
        "# модель с улучшенной точностью\n",
        "\n",
        "# seed: 1 -> 100\n",
        "# distanceMeasure: 'euclidean' (default) -> 'cosine'\n",
        "\n",
        "kmeans = KMeans(k=2, seed=100, distanceMeasure='cosine')\n",
        "model = kmeans.fit(features)\n",
        "\n",
        "updPredictions = model.transform(features)\n",
        "updPredictions.show()"
      ]
    },
    {
      "cell_type": "code",
      "execution_count": null,
      "metadata": {
        "colab": {
          "background_save": true
        },
        "id": "xReKF55Pg52R"
      },
      "outputs": [],
      "source": [
        "# подсчет точности улучшенной модели\n",
        "updRows = updPredictions.select('prediction').collect();\n",
        "updAccuracy = getAccuracy(updRows, labels)\n",
        "print('Точность улучшенной модели: ', updAccuracy * 100, '%')"
      ]
    },
    {
      "cell_type": "code",
      "execution_count": null,
      "metadata": {
        "colab": {
          "background_save": true
        },
        "id": "nP-oloL2w-yE"
      },
      "outputs": [],
      "source": [
        "# изменение точности\n",
        "print(baseAccuracy * 100, '% ->', updAccuracy * 100, '%')"
      ]
    },
    {
      "cell_type": "markdown",
      "metadata": {
        "id": "fLIprM1JsdTU"
      },
      "source": [
        "#### 3. Понижение размерности методом PCA\n",
        "Проведем понижение размерности при [помощи метода главных компонент](http://infolab.stanford.edu/~ullman/mmds/ch11.pdf).\\\n",
        "Более подробное изложение можно найти [по ссылке](https://arxiv.org/pdf/1404.1100.pdf).\\\n",
        "Данный метод также доступен в пакете [MLlib](https://spark.apache.org/docs/latest/ml-features.html#pca).\n",
        "\n",
        "Установим параметр ```k = 2 ```, понизив размерность входного пространства в **15** раз.\n"
      ]
    },
    {
      "cell_type": "code",
      "execution_count": null,
      "metadata": {
        "colab": {
          "background_save": true
        },
        "id": "JLIIu7VB2P99"
      },
      "outputs": [],
      "source": [
        "from pyspark.ml.feature import PCA\n",
        "from pyspark.ml.linalg import Vectors\n",
        "\n",
        "pca = PCA(k=2, inputCol=\"features\", outputCol=\"pcaFeatures\")\n",
        "model = pca.fit(features)\n",
        "\n",
        "pcaFeatures = model.transform(features).select(\"pcaFeatures\")\n",
        "pcaFeatures.show(truncate=False)\n"
      ]
    },
    {
      "cell_type": "markdown",
      "metadata": {
        "id": "8leQR4-atMAl"
      },
      "source": [
        "#### 4. Бинарная классификация метдом K-means на данных меньшей размерности.  \n",
        "Обучим модель KMeans также как в задании 2, но уже на признаках меньшей размерности.\n",
        "Оценим результат классификации.\n",
        "\n",
        "Выведем точечную диаграмму, отображающую зависимость первого признака от второго. Точки на диаграмме должны быть покрашены в зависимости от принадлежности тому или иному классу. \\\n"
      ]
    },
    {
      "cell_type": "code",
      "execution_count": null,
      "metadata": {
        "colab": {
          "background_save": true
        },
        "id": "U_snSSj5k2y5"
      },
      "outputs": [],
      "source": [
        "# базовая PCA модель\n",
        "\n",
        "kmeans = KMeans(featuresCol=\"pcaFeatures\", k=2, seed=1)\n",
        "model = kmeans.fit(pcaFeatures)\n",
        "\n",
        "pcaPredictions = model.transform(pcaFeatures)\n",
        "pcaPredictions.show()\n"
      ]
    },
    {
      "cell_type": "code",
      "execution_count": null,
      "metadata": {
        "colab": {
          "background_save": true
        },
        "id": "AgTZNFYEdxLu"
      },
      "outputs": [],
      "source": [
        "# подсчет точности базовой PCA модели\n",
        "pcaRows = pcaPredictions.select('prediction').collect();\n",
        "basePcaAccuracy = getAccuracy(pcaRows, labels)\n",
        "print('Точность PCA модели: ', basePcaAccuracy * 100, '%')"
      ]
    },
    {
      "cell_type": "code",
      "execution_count": null,
      "metadata": {
        "colab": {
          "background_save": true
        },
        "id": "J_51QRZ7csb0"
      },
      "outputs": [],
      "source": [
        "from sklearn.manifold import TSNE\n",
        "\n",
        "rows = pcaPredictions.collect();\n",
        "plt.figure(figsize=(10,10))\n",
        "\n",
        "for row in rows:\n",
        "  color = 'green' if row.prediction == 1 else 'red';\n",
        "  plt.plot(row.pcaFeatures[0], row.pcaFeatures[1], 'o', color=color);\n",
        "\n",
        "plt.xlabel('PCA1')\n",
        "plt.ylabel('PCA2')\n",
        "plt.title('Точечная диаграмма с результатами классификации')\n",
        "plt.show()"
      ]
    },
    {
      "cell_type": "code",
      "execution_count": null,
      "metadata": {
        "colab": {
          "background_save": true
        },
        "id": "rLymgXtbl3YS"
      },
      "outputs": [],
      "source": [
        "# PCA модель с улучшенной точностью\n",
        "\n",
        "# seed: 1 -> 10\n",
        "# distanceMeasure: 'euclidean' (default) -> 'cosine'\n",
        "# maxIter: 20 (default) -> 10\n",
        "# initSteps: 2 (default) -> 100\n",
        "\n",
        "kmeans = KMeans(featuresCol=\"pcaFeatures\", k=2, seed=10, distanceMeasure='cosine', maxIter=10, initSteps=100)\n",
        "model = kmeans.fit(pcaFeatures)\n",
        "\n",
        "updPcaPredictions = model.transform(pcaFeatures)\n",
        "updPcaPredictions.show()"
      ]
    },
    {
      "cell_type": "code",
      "execution_count": null,
      "metadata": {
        "colab": {
          "background_save": true
        },
        "id": "3FJf7h_8mTFo"
      },
      "outputs": [],
      "source": [
        "# подсчет точности улучшенной PCA модели\n",
        "updPcaRows = updPcaPredictions.select('prediction').collect();\n",
        "updPcaAccuracy = getAccuracy(updPcaRows, labels)\n",
        "print('Точность улучшенной PCA модели: ', updPcaAccuracy * 100, '%')"
      ]
    },
    {
      "cell_type": "code",
      "execution_count": null,
      "metadata": {
        "colab": {
          "background_save": true
        },
        "id": "-l4s7F6Yx39l"
      },
      "outputs": [],
      "source": [
        "# изменение точности\n",
        "print(basePcaAccuracy * 100, '% ->', updPcaAccuracy * 100, '%')"
      ]
    },
    {
      "cell_type": "code",
      "execution_count": null,
      "metadata": {
        "colab": {
          "background_save": true
        },
        "id": "ZHv6b7NP8Lwj"
      },
      "outputs": [],
      "source": [
        "rows = updPcaPredictions.collect();\n",
        "plt.figure(figsize=(10,10))\n",
        "\n",
        "for row in rows:\n",
        "  color = 'green' if row.prediction == 1 else 'red';\n",
        "  plt.plot(row.pcaFeatures[0], row.pcaFeatures[1], 'o', color=color);\n",
        "\n",
        "plt.xlabel('PCA1')\n",
        "plt.ylabel('PCA2')\n",
        "plt.title('Точечная диаграмма с результатами классификации (улучшенная модель)')\n",
        "plt.show()"
      ]
    }
  ],
  "metadata": {
    "colab": {
      "provenance": [],
      "include_colab_link": true
    },
    "kernelspec": {
      "display_name": "Python 3",
      "name": "python3"
    }
  },
  "nbformat": 4,
  "nbformat_minor": 0
}