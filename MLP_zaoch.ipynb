{
 "cells": [
  {
   "cell_type": "code",
   "execution_count": 24,
   "id": "ac454390",
   "metadata": {},
   "outputs": [
    {
     "name": "stdout",
     "output_type": "stream",
     "text": [
      "3.9.7\n",
      "2.7.0\n"
     ]
    }
   ],
   "source": [
    "#простой многослойный персептрон с одним скрытым слоем\n",
    "import platform \n",
    "print(platform.python_version())\n",
    "import numpy\n",
    "import tensorflow as tf\n",
    "print(tf.__version__)"
   ]
  },
  {
   "cell_type": "code",
   "execution_count": 25,
   "id": "5022d38c",
   "metadata": {},
   "outputs": [],
   "source": [
    "from keras.models import Sequential\n",
    "from keras.layers import Dense, Dropout, Flatten, BatchNormalization, Activation\n",
    "from keras.layers.convolutional import Conv2D, MaxPooling2D\n",
    "from keras.constraints import maxnorm\n",
    "from keras.utils import np_utils"
   ]
  },
  {
   "cell_type": "code",
   "execution_count": 26,
   "id": "bcd5da65",
   "metadata": {},
   "outputs": [],
   "source": [
    "# Set random seed for purposes of reproducibility\n",
    "seed = 21\n",
    "numpy.random.seed(seed)"
   ]
  },
  {
   "cell_type": "code",
   "execution_count": 27,
   "id": "919d5000",
   "metadata": {},
   "outputs": [
    {
     "data": {
      "image/png": "[encoded data removed]",
      "text/plain": [
       "<Figure size 432x288 with 4 Axes>"
      ]
     },
     "metadata": {
      "needs_background": "light"
     },
     "output_type": "display_data"
    }
   ],
   "source": [
    "# Plot ad hoc mnist instances\n",
    "from keras.datasets import mnist\n",
    "import matplotlib.pyplot as plt\n",
    "# load (downloaded if needed) the MNIST dataset\n",
    "(X_train, y_train), (X_test, y_test) = mnist.load_data()\n",
    "#plot 4 images as gray scale\n",
    "plt.subplot(221)\n",
    "plt.imshow(X_train[0], cmap=plt.get_cmap('gray'))\n",
    "plt.subplot(222)\n",
    "plt.imshow(X_train[1], cmap=plt.get_cmap('gray'))\n",
    "plt.subplot(223)\n",
    "plt.imshow(X_train[2], cmap=plt.get_cmap('gray'))\n",
    "plt.subplot(224)\n",
    "plt.imshow(X_train[3], cmap=plt.get_cmap('gray'))\n",
    "#show the plot\n",
    "plt.show()"
   ]
  },
  {
   "cell_type": "code",
   "execution_count": 28,
   "id": "d6220002",
   "metadata": {},
   "outputs": [],
   "source": [
    "# flatten 28*28 images to a 784 vector for each image\n",
    "num_pixels = X_train.shape[1] * X_train.shape[2]\n",
    "X_train = X_train.reshape(X_train.shape[0], num_pixels).astype('float32')\n",
    "X_test = X_test.reshape(X_test.shape[0], num_pixels).astype('float32')"
   ]
  },
  {
   "cell_type": "code",
   "execution_count": 29,
   "id": "4051e047",
   "metadata": {},
   "outputs": [],
   "source": [
    "# normalize inputs from 0-255 to 0-1\n",
    "X_train = X_train / 255\n",
    "X_test = X_test / 255"
   ]
  },
  {
   "cell_type": "code",
   "execution_count": 30,
   "id": "f03de195",
   "metadata": {},
   "outputs": [],
   "source": [
    "# one hot encode outputs\n",
    "y_train = np_utils.to_categorical(y_train)\n",
    "y_test = np_utils.to_categorical(y_test)\n",
    "num_classes = y_test.shape[1]"
   ]
  },
  {
   "cell_type": "code",
   "execution_count": 37,
   "id": "98e02314",
   "metadata": {},
   "outputs": [],
   "source": [
    "# define baseline model\n",
    "#простая нейронная сеть с одним скрытым слоем с тем же количеством нейронов, что и у входов (784). \n",
    "#функция relu использется в скрытом слое, а функция активации softmax используется в выходном слое\n",
    "#для преобразования выходных значений в вероятностные значения и позволяет выбрать один класс из 10 \n",
    "#категориальная_кроссэнтропия используется в качестве функции ошибки\n",
    "def baseline_model():\n",
    "\t# create model\n",
    "\tmodel = Sequential()\n",
    "\tmodel.add(Dense(num_pixels, input_dim=num_pixels, kernel_initializer='normal', activation='relu'))\n",
    "\tmodel.add(Dense(num_classes, kernel_initializer='normal', activation='softmax'))\n",
    "\t# Compile model\n",
    "\tmodel.compile(loss='categorical_crossentropy', optimizer='adadelta', metrics=['accuracy'])\n",
    "\treturn model"
   ]
  },
  {
   "cell_type": "code",
   "execution_count": 38,
   "id": "1e917ff3",
   "metadata": {},
   "outputs": [
    {
     "name": "stdout",
     "output_type": "stream",
     "text": [
      "Epoch 1/10\n",
      "600/600 [==============================] - 3s 5ms/step - loss: 2.2108 - accuracy: 0.2572 - val_loss: 2.0825 - val_accuracy: 0.3510\n",
      "Epoch 2/10\n",
      "600/600 [==============================] - 3s 5ms/step - loss: 1.9887 - accuracy: 0.4326 - val_loss: 1.8747 - val_accuracy: 0.5408\n",
      "Epoch 3/10\n",
      "600/600 [==============================] - 3s 5ms/step - loss: 1.7991 - accuracy: 0.5903 - val_loss: 1.6952 - val_accuracy: 0.6595\n",
      "Epoch 4/10\n",
      "600/600 [==============================] - 3s 5ms/step - loss: 1.6344 - accuracy: 0.6759 - val_loss: 1.5391 - val_accuracy: 0.7205\n",
      "Epoch 5/10\n",
      "600/600 [==============================] - 3s 5ms/step - loss: 1.4903 - accuracy: 0.7201 - val_loss: 1.4022 - val_accuracy: 0.7543\n",
      "Epoch 6/10\n",
      "600/600 [==============================] - 3s 5ms/step - loss: 1.3636 - accuracy: 0.7485 - val_loss: 1.2826 - val_accuracy: 0.7772\n",
      "Epoch 7/10\n",
      "600/600 [==============================] - 3s 5ms/step - loss: 1.2533 - accuracy: 0.7699 - val_loss: 1.1791 - val_accuracy: 0.7933\n",
      "Epoch 8/10\n",
      "600/600 [==============================] - 3s 5ms/step - loss: 1.1582 - accuracy: 0.7841 - val_loss: 1.0903 - val_accuracy: 0.8069\n",
      "Epoch 9/10\n",
      "600/600 [==============================] - 3s 5ms/step - loss: 1.0761 - accuracy: 0.7970 - val_loss: 1.0137 - val_accuracy: 0.8168\n",
      "Epoch 10/10\n",
      "600/600 [==============================] - 3s 5ms/step - loss: 1.0052 - accuracy: 0.8075 - val_loss: 0.9477 - val_accuracy: 0.8240\n"
     ]
    }
   ],
   "source": [
    "batch_size = 100\n",
    "epochs = 10\n",
    "model = baseline_model()\n",
    "model_history=model.fit(X_train, y_train, validation_data=(X_test, y_test), epochs=epochs, batch_size=batch_size)"
   ]
  },
  {
   "cell_type": "code",
   "execution_count": 39,
   "id": "9ce4e176",
   "metadata": {},
   "outputs": [
    {
     "name": "stdout",
     "output_type": "stream",
     "text": [
      "Test loss: 0.947665810585022\n",
      "Test accuracy: 0.8240000009536743\n"
     ]
    }
   ],
   "source": [
    "# Model evaluation\n",
    "score = model.evaluate(X_test, y_test, verbose=0)\n",
    "print(\"Test loss:\", score[0])\n",
    "print(\"Test accuracy:\", score[1])"
   ]
  },
  {
   "cell_type": "code",
   "execution_count": 40,
   "id": "ed05b6e9",
   "metadata": {},
   "outputs": [],
   "source": [
    "from matplotlib import pyplot as plt"
   ]
  },
  {
   "cell_type": "code",
   "execution_count": 41,
   "id": "5a36cde5",
   "metadata": {},
   "outputs": [
    {
     "data": {
      "image/png": "[encoded data removed]",
      "text/plain": [
       "<Figure size 432x288 with 1 Axes>"
      ]
     },
     "metadata": {
      "needs_background": "light"
     },
     "output_type": "display_data"
    }
   ],
   "source": [
    "plt.plot(model_history.history['accuracy'])\n",
    "plt.plot(model_history.history['val_accuracy'])\n",
    "plt.title('model accuracy')\n",
    "plt.ylabel('accuracy')\n",
    "plt.xlabel('epochs')\n",
    "plt.legend(['train','test' ], loc = 'lower right')\n",
    "plt.show\n",
    "plt.savefig('ac_mlp_100_30_adam.png')"
   ]
  },
  {
   "cell_type": "code",
   "execution_count": null,
   "id": "e003f0fc",
   "metadata": {},
   "outputs": [],
   "source": []
  },
  {
   "cell_type": "code",
   "execution_count": null,
   "id": "00df4ba3",
   "metadata": {},
   "outputs": [],
   "source": []
  }
 ],
 "metadata": {
  "kernelspec": {
   "display_name": "Python 3 (ipykernel)",
   "language": "python",
   "name": "python3"
  },
  "language_info": {
   "codemirror_mode": {
    "name": "ipython",
    "version": 3
   },
   "file_extension": ".py",
   "mimetype": "text/x-python",
   "name": "python",
   "nbconvert_exporter": "python",
   "pygments_lexer": "ipython3",
   "version": "3.9.7"
  }
 },
 "nbformat": 4,
 "nbformat_minor": 5
}
